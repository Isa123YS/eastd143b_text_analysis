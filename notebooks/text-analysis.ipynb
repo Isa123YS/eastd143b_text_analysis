{
 "cells": [
  {
   "attachments": {},
   "cell_type": "markdown",
   "metadata": {},
   "source": [
    "# Working on Data I"
   ]
  },
  {
   "attachments": {},
   "cell_type": "markdown",
   "metadata": {},
   "source": [
    "### 2023-04-06"
   ]
  },
  {
   "attachments": {},
   "cell_type": "markdown",
   "metadata": {},
   "source": [
    "Today, we will focus on text. We will try to understand the concepts of N-grams, TF-IDF, and Word2Vec. We will also try to understand the concepts of topic modeling and text classification."
   ]
  },
  {
   "cell_type": "code",
   "execution_count": null,
   "metadata": {},
   "outputs": [],
   "source": [
    "# Reading the CSV files\n",
    "\n",
    "with open('/workspaces/eastd143b_text_analysis/data/people_daily_titles.txt', 'r') as f1, open('/workspaces/eastd143b_text_analysis/data/japan_times_titles.txt', 'r') as f2:\n",
    "    # Reading the contents of the first file\n",
    "    people_daily_titles = f1.readlines()\n",
    "\n",
    "    # Reading the contents of the second file\n",
    "    japan_times_titles = f2.readlines()\n"
   ]
  },
  {
   "cell_type": "markdown",
   "metadata": {},
   "source": [
    "## WordCloud"
   ]
  },
  {
   "cell_type": "code",
   "execution_count": null,
   "metadata": {},
   "outputs": [],
   "source": [
    "from sklearn.feature_extraction.text import CountVectorizer, TfidfVectorizer"
   ]
  },
  {
   "cell_type": "code",
   "execution_count": null,
   "metadata": {},
   "outputs": [],
   "source": [
    "!pip install wordcloud"
   ]
  },
  {
   "cell_type": "code",
   "execution_count": null,
   "metadata": {},
   "outputs": [],
   "source": [
    "from wordcloud import WordCloud\n",
    "import matplotlib.pyplot as plt"
   ]
  },
  {
   "cell_type": "code",
   "execution_count": null,
   "metadata": {},
   "outputs": [],
   "source": [
    "# Generating bigrams for the news titles from the People's Daily dataset\n",
    "people_daily_vectorizer = CountVectorizer(ngram_range=(2, 2))\n",
    "people_daily_bigrams = people_daily_vectorizer.fit_transform(\n",
    "    people_daily_titles)\n",
    "\n",
    "\n",
    "# Visualizing bigrams for the People's Daily dataset\n",
    "people_daily_bigram_counts = people_daily_bigrams.sum(axis=0)\n",
    "people_daily_bigram_dict = dict(zip(\n",
    "    people_daily_vectorizer.vocabulary_.keys(), people_daily_bigram_counts.tolist()[0]))\n",
    "people_daily_wordcloud = WordCloud(\n",
    "    background_color='white').generate_from_frequencies(people_daily_bigram_dict)\n",
    "plt.imshow(people_daily_wordcloud, interpolation='bilinear')\n",
    "plt.axis(\"off\")\n",
    "plt.show()\n"
   ]
  },
  {
   "cell_type": "code",
   "execution_count": null,
   "metadata": {},
   "outputs": [],
   "source": [
    "# Generating bigrams for the news titles from the Japan Times dataset\n",
    "japan_times_vectorizer = CountVectorizer(ngram_range=(2, 2))\n",
    "japan_times_bigrams = japan_times_vectorizer.fit_transform(japan_times_titles)\n",
    "\n",
    "# Visualizing bigrams for the Japan Times dataset\n",
    "japan_times_bigram_counts = japan_times_bigrams.sum(axis=0)\n",
    "japan_times_bigram_dict = dict(zip(\n",
    "    japan_times_vectorizer.vocabulary_.keys(), japan_times_bigram_counts.tolist()[0]))\n",
    "japan_times_wordcloud = WordCloud(\n",
    "    background_color='white').generate_from_frequencies(japan_times_bigram_dict)\n",
    "plt.imshow(japan_times_wordcloud, interpolation='bilinear')\n",
    "plt.axis(\"off\")\n",
    "plt.show()\n"
   ]
  },
  {
   "cell_type": "code",
   "execution_count": null,
   "metadata": {},
   "outputs": [],
   "source": [
    "# Calculating term frequency (TF) for the news titles in the People's Daily dataset\n",
    "people_daily_vectorizer = CountVectorizer(stop_words='english')\n",
    "people_daily_tf = people_daily_vectorizer.fit_transform(people_daily_titles)\n",
    "\n",
    "# Calculating term frequency (TF) for the news titles in the Japan Times dataset\n",
    "japan_times_vectorizer = CountVectorizer(stop_words='english')\n",
    "japan_times_tf = japan_times_vectorizer.fit_transform(japan_times_titles)\n",
    "\n",
    "# Calculating document frequency (DF) for the news titles in the People's Daily dataset\n",
    "people_daily_df = people_daily_tf.astype(bool).sum(axis=0)\n",
    "\n",
    "# Calculating document frequency (DF) for the news titles in the Japan Times dataset\n",
    "japan_times_df = japan_times_tf.astype(bool).sum(axis=0)\n",
    "\n",
    "# Calculating term frequency-inverse document frequency (TF-IDF) for the news titles in the People's Daily dataset\n",
    "people_daily_tfidf_vectorizer = TfidfVectorizer()\n",
    "people_daily_tfidf = people_daily_tfidf_vectorizer.fit_transform(\n",
    "    people_daily_titles)\n",
    "\n",
    "# Calculating term frequency-inverse document frequency (TF-IDF) for the news titles in the Japan Times dataset\n",
    "japan_times_tfidf_vectorizer = TfidfVectorizer()\n",
    "japan_times_tfidf = japan_times_tfidf_vectorizer.fit_transform(\n",
    "    japan_times_titles)\n"
   ]
  },
  {
   "attachments": {},
   "cell_type": "markdown",
   "metadata": {},
   "source": [
    "## Principal Component Analysis (PCA)"
   ]
  },
  {
   "cell_type": "code",
   "execution_count": null,
   "metadata": {},
   "outputs": [],
   "source": [
    "from sklearn.decomposition import PCA\n",
    "import numpy as np"
   ]
  },
  {
   "cell_type": "code",
   "execution_count": null,
   "metadata": {},
   "outputs": [],
   "source": [
    "\n",
    "# Creating a TfidfVectorizer object with the same vocabulary for both datasets\n",
    "tfidf_vectorizer = TfidfVectorizer()\n",
    "tfidf = tfidf_vectorizer.fit_transform(people_daily_titles)\n",
    "japan_times_tfidf = tfidf_vectorizer.transform(japan_times_titles)\n",
    "\n",
    "# Concatenating the TF-IDF matrices of the two datasets\n",
    "tfidf_concat = np.concatenate(\n",
    "    [tfidf.toarray(), japan_times_tfidf.toarray()], axis=0)\n",
    "\n",
    "# Performing PCA on the concatenated TF-IDF matrix\n",
    "pca = PCA(n_components=2)\n",
    "tfidf_pca = pca.fit_transform(tfidf_concat)\n",
    "\n",
    "# Creating a scatter plot of the PCA results\n",
    "plt.scatter(tfidf_pca[:len(people_daily_titles), 0], tfidf_pca[:len(\n",
    "    people_daily_titles), 1], label='People Daily')\n",
    "plt.scatter(tfidf_pca[len(people_daily_titles):, 0], tfidf_pca[len(\n",
    "    people_daily_titles):, 1], label='Japan Times')\n",
    "plt.xlabel('PC1')\n",
    "plt.ylabel('PC2')\n",
    "plt.title('PCA of TF-IDF scores for People Daily and Japan Times')\n",
    "plt.legend()\n",
    "plt.show()"
   ]
  },
  {
   "attachments": {},
   "cell_type": "markdown",
   "metadata": {},
   "source": [
    "## Topic Modeling"
   ]
  },
  {
   "cell_type": "code",
   "execution_count": null,
   "metadata": {},
   "outputs": [],
   "source": [
    "from sklearn.decomposition import LatentDirichletAllocation\n"
   ]
  },
  {
   "cell_type": "code",
   "execution_count": null,
   "metadata": {},
   "outputs": [],
   "source": [
    "# Creating a CountVectorizer object to tokenize the news titles\n",
    "people_daily_vectorizer = CountVectorizer(stop_words='english')\n",
    "people_daily_counts = people_daily_vectorizer.fit_transform(\n",
    "    people_daily_titles)\n",
    "\n",
    "# Creating an LDA object to extract 10 topics from the news titles\n",
    "lda = LatentDirichletAllocation(n_components=10, random_state=42)\n",
    "people_daily_lda = lda.fit_transform(people_daily_counts)\n",
    "\n",
    "# Creating a DataFrame to display the top words for each topic\n",
    "people_daily_topics = pd.DataFrame(\n",
    "    index=['Topic {}'.format(i) for i in range(1, 11)])\n",
    "\n",
    "# Getting the top 10 words for each topic and adding them to the DataFrame\n",
    "for i, topic in enumerate(lda.components_):\n",
    "    people_daily_topics['Top Words for Topic {}'.format(\n",
    "        i+1)] = [people_daily_vectorizer.get_feature_names_out()[j] for j in topic.argsort()[:-11:-1]]\n",
    "\n",
    "# Displaying the DataFrame\n",
    "display(people_daily_topics)\n"
   ]
  },
  {
   "cell_type": "code",
   "execution_count": null,
   "metadata": {},
   "outputs": [],
   "source": [
    "!pip install gensim\n",
    "!pip install nltk"
   ]
  },
  {
   "cell_type": "code",
   "execution_count": null,
   "metadata": {},
   "outputs": [],
   "source": [
    "import nltk\n",
    "nltk.download('punkt')"
   ]
  },
  {
   "cell_type": "code",
   "execution_count": null,
   "metadata": {},
   "outputs": [],
   "source": [
    "import string\n",
    "from nltk.tokenize import word_tokenize\n",
    "\n",
    "def preprocess_text(text):\n",
    "    # Convert the text to lowercase\n",
    "    text = text.lower()\n",
    "\n",
    "    # Remove punctuation characters\n",
    "    text = text.translate(str.maketrans('', '', string.punctuation))\n",
    "\n",
    "    # Tokenize the text into words\n",
    "    words = word_tokenize(text)\n",
    "\n",
    "    # Return the preprocessed text as a string\n",
    "    return ' '.join(words)\n"
   ]
  },
  {
   "cell_type": "code",
   "execution_count": null,
   "metadata": {},
   "outputs": [],
   "source": [
    "import gensim\n",
    "from gensim import corpora, models\n",
    "\n",
    "# Preprocessing the data\n",
    "people_daily_titles = [preprocess_text(title) for title in people_daily_titles]\n",
    "\n",
    "# Converting the data into a numerical format\n",
    "vectorizer = CountVectorizer(stop_words='english')\n",
    "counts = vectorizer.fit_transform(people_daily_titles)\n",
    "\n",
    "# Converting the counts into a Gensim-compatible format\n",
    "corpus = gensim.matutils.Sparse2Corpus(counts, documents_columns=False)\n",
    "id2word = dict((v, k) for k, v in vectorizer.vocabulary_.items())\n",
    "\n",
    "# Performing LDA topic modeling\n",
    "lda_model = gensim.models.ldamodel.LdaModel(\n",
    "    corpus=corpus, id2word=id2word, num_topics=4, passes=10)\n",
    "\n",
    "# Printing the topics\n",
    "for idx, topic in lda_model.print_topics():\n",
    "    print('Topic:', idx)\n",
    "    print('Words:', topic)\n",
    "    print()\n"
   ]
  }
 ],
 "metadata": {
  "kernelspec": {
   "display_name": "Python 3",
   "language": "python",
   "name": "python3"
  },
  "language_info": {
   "codemirror_mode": {
    "name": "ipython",
    "version": 3
   },
   "file_extension": ".py",
   "mimetype": "text/x-python",
   "name": "python",
   "nbconvert_exporter": "python",
   "pygments_lexer": "ipython3",
   "version": "3.10.4"
  },
  "orig_nbformat": 4
 },
 "nbformat": 4,
 "nbformat_minor": 2
}
